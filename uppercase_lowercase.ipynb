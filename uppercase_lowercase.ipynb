{
 "cells": [
  {
   "cell_type": "code",
   "execution_count": 2,
   "metadata": {},
   "outputs": [],
   "source": [
    "def count_upperlower(str):\n",
    "    count = {\"uppercase\": 0, \"lowercase\":0}\n",
    "    for char in str:\n",
    "        if 'A' <= char <= 'Z':\n",
    "            count[\"uppercase\"] += 1\n",
    "        elif 'a' <= char <= 'z':\n",
    "            count[\"lowercase\"] += 1\n",
    "    return count\n",
    "result = count_upperlower('The Quick Fox Jump')\n",
    "# print(\"Uppercase letters:\", result['uppercase'])\n",
    "# print(\"Lowercase letters:\", result['lowercase'])"
   ]
  },
  {
   "cell_type": "code",
   "execution_count": 3,
   "metadata": {},
   "outputs": [
    {
     "name": "stdout",
     "output_type": "stream",
     "text": [
      "{'uppercase': 4, 'lowercase': 11}\n"
     ]
    }
   ],
   "source": [
    "print(result)"
   ]
  }
 ],
 "metadata": {
  "kernelspec": {
   "display_name": "Python 3.10.7 64-bit",
   "language": "python",
   "name": "python3"
  },
  "language_info": {
   "codemirror_mode": {
    "name": "ipython",
    "version": 3
   },
   "file_extension": ".py",
   "mimetype": "text/x-python",
   "name": "python",
   "nbconvert_exporter": "python",
   "pygments_lexer": "ipython3",
   "version": "3.10.7"
  },
  "orig_nbformat": 4,
  "vscode": {
   "interpreter": {
    "hash": "aee8b7b246df8f9039afb4144a1f6fd8d2ca17a180786b69acc140d282b71a49"
   }
  }
 },
 "nbformat": 4,
 "nbformat_minor": 2
}
